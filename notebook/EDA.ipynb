{
 "cells": [
  {
   "cell_type": "code",
   "execution_count": 1,
   "metadata": {},
   "outputs": [],
   "source": [
    "import sys\n",
    "import os\n",
    "import pandas as pd\n",
    "import numpy as np\n",
    "import matplotlib.pyplot as plt\n",
    "import seaborn as sns"
   ]
  },
  {
   "cell_type": "code",
   "execution_count": 2,
   "metadata": {},
   "outputs": [],
   "source": [
    "helper_path = \"../code/\"\n",
    "sys.path.insert(0, helper_path)"
   ]
  },
  {
   "cell_type": "code",
   "execution_count": 3,
   "metadata": {},
   "outputs": [],
   "source": [
    "from New_MissingValue import MissingValue"
   ]
  },
  {
   "cell_type": "code",
   "execution_count": 4,
   "metadata": {},
   "outputs": [],
   "source": [
    "# relative path\n",
    "data_path = \"../data/\"\n",
    "data_file_list = [\"train.csv\",\"test.csv\"]"
   ]
  },
  {
   "cell_type": "code",
   "execution_count": 5,
   "metadata": {},
   "outputs": [
    {
     "name": "stdout",
     "output_type": "stream",
     "text": [
      "Training text file: 27486 rows; 4 columns\n",
      "Testing text file: 3535 rows; 3 columns\n"
     ]
    },
    {
     "data": {
      "text/html": [
       "<div>\n",
       "<style scoped>\n",
       "    .dataframe tbody tr th:only-of-type {\n",
       "        vertical-align: middle;\n",
       "    }\n",
       "\n",
       "    .dataframe tbody tr th {\n",
       "        vertical-align: top;\n",
       "    }\n",
       "\n",
       "    .dataframe thead th {\n",
       "        text-align: right;\n",
       "    }\n",
       "</style>\n",
       "<table border=\"1\" class=\"dataframe\">\n",
       "  <thead>\n",
       "    <tr style=\"text-align: right;\">\n",
       "      <th></th>\n",
       "      <th>textID</th>\n",
       "      <th>text</th>\n",
       "      <th>selected_text</th>\n",
       "      <th>sentiment</th>\n",
       "    </tr>\n",
       "  </thead>\n",
       "  <tbody>\n",
       "    <tr>\n",
       "      <th>0</th>\n",
       "      <td>a3d0a7d5ad</td>\n",
       "      <td>Spent the entire morning in a meeting w/ a ven...</td>\n",
       "      <td>my boss was not happy w/ them. Lots of fun.</td>\n",
       "      <td>neutral</td>\n",
       "    </tr>\n",
       "    <tr>\n",
       "      <th>1</th>\n",
       "      <td>251b6a6766</td>\n",
       "      <td>Oh! Good idea about putting them on ice cream</td>\n",
       "      <td>Good</td>\n",
       "      <td>positive</td>\n",
       "    </tr>\n",
       "    <tr>\n",
       "      <th>2</th>\n",
       "      <td>c9e8d1ef1c</td>\n",
       "      <td>says good (or should i say bad?) afternoon!  h...</td>\n",
       "      <td>says good (or should i say bad?) afternoon!</td>\n",
       "      <td>neutral</td>\n",
       "    </tr>\n",
       "    <tr>\n",
       "      <th>3</th>\n",
       "      <td>f14f087215</td>\n",
       "      <td>i dont think you can vote anymore! i tried</td>\n",
       "      <td>i dont think you can vote anymore!</td>\n",
       "      <td>negative</td>\n",
       "    </tr>\n",
       "    <tr>\n",
       "      <th>4</th>\n",
       "      <td>bf7473b12d</td>\n",
       "      <td>haha better drunken tweeting you mean?</td>\n",
       "      <td>better</td>\n",
       "      <td>positive</td>\n",
       "    </tr>\n",
       "  </tbody>\n",
       "</table>\n",
       "</div>"
      ],
      "text/plain": [
       "       textID                                               text  \\\n",
       "0  a3d0a7d5ad  Spent the entire morning in a meeting w/ a ven...   \n",
       "1  251b6a6766      Oh! Good idea about putting them on ice cream   \n",
       "2  c9e8d1ef1c  says good (or should i say bad?) afternoon!  h...   \n",
       "3  f14f087215         i dont think you can vote anymore! i tried   \n",
       "4  bf7473b12d             haha better drunken tweeting you mean?   \n",
       "\n",
       "                                 selected_text sentiment  \n",
       "0  my boss was not happy w/ them. Lots of fun.   neutral  \n",
       "1                                         Good  positive  \n",
       "2  says good (or should i say bad?) afternoon!   neutral  \n",
       "3           i dont think you can vote anymore!  negative  \n",
       "4                                       better  positive  "
      ]
     },
     "execution_count": 5,
     "metadata": {},
     "output_type": "execute_result"
    }
   ],
   "source": [
    "# load data\n",
    "data_train = pd.read_csv(data_path + data_file_list[0])\n",
    "data_test = pd.read_csv(data_path + data_file_list[1])\n",
    "\n",
    "# data info\n",
    "print(f'Training text file: {data_train.shape[0]} rows; {data_train.shape[1]} columns')\n",
    "print(f'Testing text file: {data_test.shape[0]} rows; {data_test.shape[1]} columns')\n",
    "data_train.head()"
   ]
  },
  {
   "cell_type": "code",
   "execution_count": 6,
   "metadata": {},
   "outputs": [
    {
     "name": "stdout",
     "output_type": "stream",
     "text": [
      "In column\u001b[91m text\u001b[00m , we have\u001b[91m 1\u001b[00m missing values.\n",
      "In column\u001b[91m selected_text\u001b[00m , we have\u001b[91m 1\u001b[00m missing values.\n",
      "textID           fdb77c3752\n",
      "text                    NaN\n",
      "selected_text           NaN\n",
      "sentiment           neutral\n",
      "Name: 13133, dtype: object\n"
     ]
    },
    {
     "data": {
      "text/plain": [
       "[13133]"
      ]
     },
     "execution_count": 6,
     "metadata": {},
     "output_type": "execute_result"
    }
   ],
   "source": [
    "# check if NaNs exist in training data, and acquire their locations\n",
    "missing_value_finder_train = MissingValue(data_train)\n",
    "missing_value_finder_train.missing_value_summary(verbose=True)\n",
    "missing_value_finder_train.missing_value_enumerator()"
   ]
  },
  {
   "cell_type": "code",
   "execution_count": 7,
   "metadata": {},
   "outputs": [],
   "source": [
    "# drop this missing row\n",
    "for obj in missing_value_finder_train.na_index:\n",
    "    data_train = data_train.drop([obj])"
   ]
  },
  {
   "cell_type": "code",
   "execution_count": 8,
   "metadata": {},
   "outputs": [
    {
     "name": "stdout",
     "output_type": "stream",
     "text": [
      "No missing value found!\n"
     ]
    },
    {
     "data": {
      "text/plain": [
       "({},\n",
       " 0,\n",
       " textID           0\n",
       " text             0\n",
       " selected_text    0\n",
       " sentiment        0\n",
       " dtype: int64)"
      ]
     },
     "execution_count": 8,
     "metadata": {},
     "output_type": "execute_result"
    }
   ],
   "source": [
    "# check again\n",
    "missing_value_finder_train = MissingValue(data_train)\n",
    "missing_value_finder_train.missing_value_summary(verbose=True)"
   ]
  },
  {
   "cell_type": "code",
   "execution_count": 9,
   "metadata": {},
   "outputs": [
    {
     "name": "stdout",
     "output_type": "stream",
     "text": [
      "No missing value found!\n"
     ]
    },
    {
     "data": {
      "text/plain": [
       "({},\n",
       " 0,\n",
       " textID       0\n",
       " text         0\n",
       " sentiment    0\n",
       " dtype: int64)"
      ]
     },
     "execution_count": 9,
     "metadata": {},
     "output_type": "execute_result"
    }
   ],
   "source": [
    "# check if NaNs exist in test data, and acquire their locations\n",
    "missing_value_finder_test = MissingValue(data_test)\n",
    "missing_value_finder_test.missing_value_summary(verbose=True)"
   ]
  },
  {
   "cell_type": "markdown",
   "metadata": {},
   "source": [
    "Note:\n",
    "- Missing value check & elimination finished "
   ]
  },
  {
   "cell_type": "markdown",
   "metadata": {},
   "source": [
    "# Data Classification"
   ]
  },
  {
   "cell_type": "markdown",
   "metadata": {},
   "source": [
    "- Classify the data by their features, and save them into separate csv files, named \"Positive.csv\", \"Negative.csv\" and \"Neutral.csv\""
   ]
  },
  {
   "cell_type": "code",
   "execution_count": 10,
   "metadata": {},
   "outputs": [],
   "source": [
    "def SentiSeparation(data):\n",
    "    Positive=data[data['sentiment']=='positive']\n",
    "    Negative=data[data['sentiment']=='negative']\n",
    "    Neutral=data[data['sentiment']=='neutral']\n",
    "    Positive.to_csv(r'../data/Positive.csv')\n",
    "    Negative.to_csv(r'../data/Negative.csv')\n",
    "    Neutral.to_csv(r'../data/Neutral.csv')"
   ]
  },
  {
   "cell_type": "code",
   "execution_count": 11,
   "metadata": {},
   "outputs": [],
   "source": [
    "SentiSeparation(data_train)"
   ]
  },
  {
   "cell_type": "markdown",
   "metadata": {},
   "source": [
    "# Data Cleaning"
   ]
  },
  {
   "cell_type": "markdown",
   "metadata": {},
   "source": [
    "Since the data set is too large, running through all the data may take too long. Therefore, only data with feature \"positive\" is tested at this time."
   ]
  },
  {
   "cell_type": "code",
   "execution_count": 12,
   "metadata": {},
   "outputs": [],
   "source": [
    "process_path = \"../code/\"\n",
    "sys.path.insert(0, process_path)"
   ]
  },
  {
   "cell_type": "code",
   "execution_count": 13,
   "metadata": {},
   "outputs": [],
   "source": [
    "from TextPreprocessing import TweetPreprocess\n",
    "import nltk"
   ]
  },
  {
   "cell_type": "code",
   "execution_count": 14,
   "metadata": {},
   "outputs": [
    {
     "data": {
      "text/html": [
       "<div>\n",
       "<style scoped>\n",
       "    .dataframe tbody tr th:only-of-type {\n",
       "        vertical-align: middle;\n",
       "    }\n",
       "\n",
       "    .dataframe tbody tr th {\n",
       "        vertical-align: top;\n",
       "    }\n",
       "\n",
       "    .dataframe thead th {\n",
       "        text-align: right;\n",
       "    }\n",
       "</style>\n",
       "<table border=\"1\" class=\"dataframe\">\n",
       "  <thead>\n",
       "    <tr style=\"text-align: right;\">\n",
       "      <th></th>\n",
       "      <th>Unnamed: 0</th>\n",
       "      <th>textID</th>\n",
       "      <th>text</th>\n",
       "      <th>selected_text</th>\n",
       "      <th>sentiment</th>\n",
       "    </tr>\n",
       "  </thead>\n",
       "  <tbody>\n",
       "    <tr>\n",
       "      <th>0</th>\n",
       "      <td>1</td>\n",
       "      <td>251b6a6766</td>\n",
       "      <td>Oh! Good idea about putting them on ice cream</td>\n",
       "      <td>Good</td>\n",
       "      <td>positive</td>\n",
       "    </tr>\n",
       "    <tr>\n",
       "      <th>1</th>\n",
       "      <td>4</td>\n",
       "      <td>bf7473b12d</td>\n",
       "      <td>haha better drunken tweeting you mean?</td>\n",
       "      <td>better</td>\n",
       "      <td>positive</td>\n",
       "    </tr>\n",
       "    <tr>\n",
       "      <th>2</th>\n",
       "      <td>6</td>\n",
       "      <td>2ab82634d5</td>\n",
       "      <td>had an awsome salad! I recommend getting the S...</td>\n",
       "      <td>had an awsome salad!</td>\n",
       "      <td>positive</td>\n",
       "    </tr>\n",
       "    <tr>\n",
       "      <th>3</th>\n",
       "      <td>7</td>\n",
       "      <td>a5a1c996c0</td>\n",
       "      <td>fine! Going to do my big walk today 20 or so ...</td>\n",
       "      <td>fine!</td>\n",
       "      <td>positive</td>\n",
       "    </tr>\n",
       "    <tr>\n",
       "      <th>4</th>\n",
       "      <td>8</td>\n",
       "      <td>a182b2638e</td>\n",
       "      <td>Thank a yoou  how are you? #TwitterTakeover</td>\n",
       "      <td>Thank</td>\n",
       "      <td>positive</td>\n",
       "    </tr>\n",
       "  </tbody>\n",
       "</table>\n",
       "</div>"
      ],
      "text/plain": [
       "   Unnamed: 0      textID                                               text  \\\n",
       "0           1  251b6a6766      Oh! Good idea about putting them on ice cream   \n",
       "1           4  bf7473b12d             haha better drunken tweeting you mean?   \n",
       "2           6  2ab82634d5  had an awsome salad! I recommend getting the S...   \n",
       "3           7  a5a1c996c0   fine! Going to do my big walk today 20 or so ...   \n",
       "4           8  a182b2638e        Thank a yoou  how are you? #TwitterTakeover   \n",
       "\n",
       "          selected_text sentiment  \n",
       "0                  Good  positive  \n",
       "1                better  positive  \n",
       "2  had an awsome salad!  positive  \n",
       "3                 fine!  positive  \n",
       "4                 Thank  positive  "
      ]
     },
     "execution_count": 14,
     "metadata": {},
     "output_type": "execute_result"
    }
   ],
   "source": [
    "Positive=pd.read_csv(\"../data/Positive.csv\")\n",
    "Positive=pd.DataFrame(Positive)\n",
    "Positive.head()"
   ]
  },
  {
   "cell_type": "code",
   "execution_count": 16,
   "metadata": {},
   "outputs": [],
   "source": [
    "def process_to_csv(process_df, feature, clean_csv_path):\n",
    "    \"\"\" Ensemble method for processing multiple tweets in dataframe (df)\n",
    "    Params:\n",
    "        process_df: the df to be processed\n",
    "        feature: feature (colunm) of the df, use 'text' or 'selected_text'\n",
    "        clean_csv_path: directory of written out csv file\n",
    "    Return:\n",
    "        saved_csv: csv file save to clean_csv_path\n",
    "    \"\"\"\n",
    "    # copy the processed df from original df \n",
    "    processed_df = process_df.copy()\n",
    "    processed_df_tbused=process_df.copy()\n",
    "    \n",
    "    for i, tweet in enumerate(process_df[feature]):\n",
    "        if type(tweet) == str:\n",
    "            processer = TweetPreprocess(tweet)\n",
    "        else:\n",
    "            raise Exception('The tweet must be str!')\n",
    "            \n",
    "        # call the processer class \n",
    "        clean_tweet_both = processer.process_tweet()\n",
    "        clean_tweet=clean_tweet_both[0]\n",
    "        clean_word=clean_tweet_both[1]\n",
    "        processed_df[feature][i] = clean_tweet\n",
    "        processed_df_tbused[feature][i]=clean_word\n",
    "        \n",
    "    # save as a csv file\n",
    "    \n",
    "    processed_df.to_csv(clean_csv_path)\n",
    "    return processed_df_tbused\n"
   ]
  },
  {
   "cell_type": "code",
   "execution_count": 18,
   "metadata": {},
   "outputs": [
    {
     "name": "stderr",
     "output_type": "stream",
     "text": [
      "/opt/anaconda3/lib/python3.7/site-packages/ipykernel_launcher.py:24: SettingWithCopyWarning: \n",
      "A value is trying to be set on a copy of a slice from a DataFrame\n",
      "\n",
      "See the caveats in the documentation: https://pandas.pydata.org/pandas-docs/stable/user_guide/indexing.html#returning-a-view-versus-a-copy\n",
      "/opt/anaconda3/lib/python3.7/site-packages/ipykernel_launcher.py:25: SettingWithCopyWarning: \n",
      "A value is trying to be set on a copy of a slice from a DataFrame\n",
      "\n",
      "See the caveats in the documentation: https://pandas.pydata.org/pandas-docs/stable/user_guide/indexing.html#returning-a-view-versus-a-copy\n"
     ]
    },
    {
     "data": {
      "text/html": [
       "<div>\n",
       "<style scoped>\n",
       "    .dataframe tbody tr th:only-of-type {\n",
       "        vertical-align: middle;\n",
       "    }\n",
       "\n",
       "    .dataframe tbody tr th {\n",
       "        vertical-align: top;\n",
       "    }\n",
       "\n",
       "    .dataframe thead th {\n",
       "        text-align: right;\n",
       "    }\n",
       "</style>\n",
       "<table border=\"1\" class=\"dataframe\">\n",
       "  <thead>\n",
       "    <tr style=\"text-align: right;\">\n",
       "      <th></th>\n",
       "      <th>Unnamed: 0</th>\n",
       "      <th>textID</th>\n",
       "      <th>text</th>\n",
       "      <th>selected_text</th>\n",
       "      <th>sentiment</th>\n",
       "    </tr>\n",
       "  </thead>\n",
       "  <tbody>\n",
       "    <tr>\n",
       "      <th>0</th>\n",
       "      <td>1</td>\n",
       "      <td>251b6a6766</td>\n",
       "      <td>Oh! Good idea about putting them on ice cream</td>\n",
       "      <td>[good]</td>\n",
       "      <td>positive</td>\n",
       "    </tr>\n",
       "    <tr>\n",
       "      <th>1</th>\n",
       "      <td>4</td>\n",
       "      <td>bf7473b12d</td>\n",
       "      <td>haha better drunken tweeting you mean?</td>\n",
       "      <td>[better]</td>\n",
       "      <td>positive</td>\n",
       "    </tr>\n",
       "    <tr>\n",
       "      <th>2</th>\n",
       "      <td>6</td>\n",
       "      <td>2ab82634d5</td>\n",
       "      <td>had an awsome salad! I recommend getting the S...</td>\n",
       "      <td>[had, an, awsome, salad]</td>\n",
       "      <td>positive</td>\n",
       "    </tr>\n",
       "    <tr>\n",
       "      <th>3</th>\n",
       "      <td>7</td>\n",
       "      <td>a5a1c996c0</td>\n",
       "      <td>fine! Going to do my big walk today 20 or so ...</td>\n",
       "      <td>[fine]</td>\n",
       "      <td>positive</td>\n",
       "    </tr>\n",
       "    <tr>\n",
       "      <th>4</th>\n",
       "      <td>8</td>\n",
       "      <td>a182b2638e</td>\n",
       "      <td>Thank a yoou  how are you? #TwitterTakeover</td>\n",
       "      <td>[thank]</td>\n",
       "      <td>positive</td>\n",
       "    </tr>\n",
       "  </tbody>\n",
       "</table>\n",
       "</div>"
      ],
      "text/plain": [
       "   Unnamed: 0      textID                                               text  \\\n",
       "0           1  251b6a6766      Oh! Good idea about putting them on ice cream   \n",
       "1           4  bf7473b12d             haha better drunken tweeting you mean?   \n",
       "2           6  2ab82634d5  had an awsome salad! I recommend getting the S...   \n",
       "3           7  a5a1c996c0   fine! Going to do my big walk today 20 or so ...   \n",
       "4           8  a182b2638e        Thank a yoou  how are you? #TwitterTakeover   \n",
       "\n",
       "              selected_text sentiment  \n",
       "0                    [good]  positive  \n",
       "1                  [better]  positive  \n",
       "2  [had, an, awsome, salad]  positive  \n",
       "3                    [fine]  positive  \n",
       "4                   [thank]  positive  "
      ]
     },
     "execution_count": 18,
     "metadata": {},
     "output_type": "execute_result"
    }
   ],
   "source": [
    "# saving path of the cleaned data\n",
    "save='../data/Positive_clean_data.csv'\n",
    "# featured data to be cleaned\n",
    "feature='selected_text'\n",
    "# apply the previous function\n",
    "selected_text=process_to_csv(Positive,feature,save)\n",
    "selected_text.head()"
   ]
  },
  {
   "cell_type": "markdown",
   "metadata": {},
   "source": [
    "# Preparation for Statistical Analysis -- Unigram/Multi-gram"
   ]
  },
  {
   "cell_type": "markdown",
   "metadata": {},
   "source": [
    "Cleaned data are used to do statistical analysis. Due to the large size of the data to be processed, only first 50 sets of data are tested to verify the code."
   ]
  },
  {
   "cell_type": "code",
   "execution_count": 19,
   "metadata": {},
   "outputs": [],
   "source": [
    "split_selected_text=selected_text['selected_text'][:50]\n",
    "split_selected_word=[]\n",
    "for i in range(len(split_selected_text)):\n",
    "    for j in split_selected_text[i]:\n",
    "        split_selected_word.append(j)"
   ]
  },
  {
   "cell_type": "code",
   "execution_count": 35,
   "metadata": {},
   "outputs": [],
   "source": [
    "def nGram(split_selected_word,split_selected_text,N):\n",
    "    if N==1:\n",
    "        print('Unigram text framework')\n",
    "        unigram=list(set(split_selected_word))\n",
    "        unigram_frequency=[]\n",
    "        unigram_presence=np.zeros(len(unigram))\n",
    "        for o in range(len(unigram)):\n",
    "            unigram_frequency.append(split_selected_word.count(unigram[o]))\n",
    "            for l in range(len(split_selected_text)):\n",
    "                if unigram[o] in split_selected_text[l]:\n",
    "                    unigram_presence[o]+=1\n",
    "        gram=unigram\n",
    "        presence=unigram_presence\n",
    "        frequency=unigram_frequency\n",
    "    else:\n",
    "        print(N,\"-gram text frame work\")\n",
    "        ngram=[]\n",
    "        for k in range(len(split_selected_text)):\n",
    "            for m in range(0,len(split_selected_text[k])-(N-1)):\n",
    "                string=split_selected_text[k][m]\n",
    "                for g in range(1,N):\n",
    "                    string=string+\" \"+split_selected_text[k][m+g]\n",
    "                ngram.append(str(string))\n",
    "        gram=list(set(ngram))\n",
    "        ngram_frequency=[]\n",
    "        ngram_presence='not applicable'\n",
    "        for o in range(len(gram)):\n",
    "            ngram_frequency.append(ngram.count(gram[o]))\n",
    "        presence=ngram_presence\n",
    "        frequency=ngram_frequency\n",
    "    number_unique_term=len(gram)\n",
    "    return gram,presence,frequency,number_unique_term\n",
    "#for lis in range(len(split_selected_text)):\n",
    "#    for ind in range(len(lis)):\n",
    "#        if split_selected_text[lis][ind]"
   ]
  },
  {
   "cell_type": "markdown",
   "metadata": {},
   "source": [
    "check if unigram works, N=1"
   ]
  },
  {
   "cell_type": "code",
   "execution_count": 42,
   "metadata": {},
   "outputs": [
    {
     "name": "stdout",
     "output_type": "stream",
     "text": [
      "Unigram text framework\n"
     ]
    }
   ],
   "source": [
    "uni_gram,uni_presence,uni_frequency,uni_number_unique_term=nGram(split_selected_word,split_selected_text,1)"
   ]
  },
  {
   "cell_type": "code",
   "execution_count": 32,
   "metadata": {},
   "outputs": [
    {
     "data": {
      "text/html": [
       "<div>\n",
       "<style scoped>\n",
       "    .dataframe tbody tr th:only-of-type {\n",
       "        vertical-align: middle;\n",
       "    }\n",
       "\n",
       "    .dataframe tbody tr th {\n",
       "        vertical-align: top;\n",
       "    }\n",
       "\n",
       "    .dataframe thead th {\n",
       "        text-align: right;\n",
       "    }\n",
       "</style>\n",
       "<table border=\"1\" class=\"dataframe\">\n",
       "  <thead>\n",
       "    <tr style=\"text-align: right;\">\n",
       "      <th></th>\n",
       "      <th>presence</th>\n",
       "      <th>frequency</th>\n",
       "    </tr>\n",
       "  </thead>\n",
       "  <tbody>\n",
       "    <tr>\n",
       "      <th>laptop</th>\n",
       "      <td>1.0</td>\n",
       "      <td>1</td>\n",
       "    </tr>\n",
       "    <tr>\n",
       "      <th>has</th>\n",
       "      <td>1.0</td>\n",
       "      <td>1</td>\n",
       "    </tr>\n",
       "    <tr>\n",
       "      <th>everyone</th>\n",
       "      <td>1.0</td>\n",
       "      <td>1</td>\n",
       "    </tr>\n",
       "    <tr>\n",
       "      <th>best</th>\n",
       "      <td>1.0</td>\n",
       "      <td>1</td>\n",
       "    </tr>\n",
       "    <tr>\n",
       "      <th>it</th>\n",
       "      <td>2.0</td>\n",
       "      <td>2</td>\n",
       "    </tr>\n",
       "    <tr>\n",
       "      <th>...</th>\n",
       "      <td>...</td>\n",
       "      <td>...</td>\n",
       "    </tr>\n",
       "    <tr>\n",
       "      <th>should</th>\n",
       "      <td>1.0</td>\n",
       "      <td>1</td>\n",
       "    </tr>\n",
       "    <tr>\n",
       "      <th>her</th>\n",
       "      <td>1.0</td>\n",
       "      <td>1</td>\n",
       "    </tr>\n",
       "    <tr>\n",
       "      <th>hope</th>\n",
       "      <td>1.0</td>\n",
       "      <td>1</td>\n",
       "    </tr>\n",
       "    <tr>\n",
       "      <th>that</th>\n",
       "      <td>2.0</td>\n",
       "      <td>2</td>\n",
       "    </tr>\n",
       "    <tr>\n",
       "      <th>cute</th>\n",
       "      <td>3.0</td>\n",
       "      <td>3</td>\n",
       "    </tr>\n",
       "  </tbody>\n",
       "</table>\n",
       "<p>122 rows × 2 columns</p>\n",
       "</div>"
      ],
      "text/plain": [
       "          presence  frequency\n",
       "laptop         1.0          1\n",
       "has            1.0          1\n",
       "everyone       1.0          1\n",
       "best           1.0          1\n",
       "it             2.0          2\n",
       "...            ...        ...\n",
       "should         1.0          1\n",
       "her            1.0          1\n",
       "hope           1.0          1\n",
       "that           2.0          2\n",
       "cute           3.0          3\n",
       "\n",
       "[122 rows x 2 columns]"
      ]
     },
     "execution_count": 32,
     "metadata": {},
     "output_type": "execute_result"
    }
   ],
   "source": [
    "comparison={'presence':uni_presence,'frequency':uni_frequency}\n",
    "pd.DataFrame(comparison,index=uni_gram)"
   ]
  },
  {
   "cell_type": "markdown",
   "metadata": {},
   "source": [
    "check if multi-gram works, N=2"
   ]
  },
  {
   "cell_type": "code",
   "execution_count": 47,
   "metadata": {},
   "outputs": [
    {
     "name": "stdout",
     "output_type": "stream",
     "text": [
      "2 -gram text frame work\n"
     ]
    }
   ],
   "source": [
    "bi_gram,bi_presence,bi_frequency,bi_number_unique_term=nGram(split_selected_word,split_selected_text,2)"
   ]
  },
  {
   "cell_type": "code",
   "execution_count": 51,
   "metadata": {},
   "outputs": [
    {
     "data": {
      "text/html": [
       "<div>\n",
       "<style scoped>\n",
       "    .dataframe tbody tr th:only-of-type {\n",
       "        vertical-align: middle;\n",
       "    }\n",
       "\n",
       "    .dataframe tbody tr th {\n",
       "        vertical-align: top;\n",
       "    }\n",
       "\n",
       "    .dataframe thead th {\n",
       "        text-align: right;\n",
       "    }\n",
       "</style>\n",
       "<table border=\"1\" class=\"dataframe\">\n",
       "  <thead>\n",
       "    <tr style=\"text-align: right;\">\n",
       "      <th></th>\n",
       "      <th>frequency</th>\n",
       "    </tr>\n",
       "  </thead>\n",
       "  <tbody>\n",
       "    <tr>\n",
       "      <th>happy birthday</th>\n",
       "      <td>1</td>\n",
       "    </tr>\n",
       "    <tr>\n",
       "      <th>tuner for</th>\n",
       "      <td>1</td>\n",
       "    </tr>\n",
       "    <tr>\n",
       "      <th>be most</th>\n",
       "      <td>1</td>\n",
       "    </tr>\n",
       "    <tr>\n",
       "      <th>most welcome</th>\n",
       "      <td>1</td>\n",
       "    </tr>\n",
       "    <tr>\n",
       "      <th>day everyone</th>\n",
       "      <td>1</td>\n",
       "    </tr>\n",
       "    <tr>\n",
       "      <th>...</th>\n",
       "      <td>...</td>\n",
       "    </tr>\n",
       "    <tr>\n",
       "      <th>see them</th>\n",
       "      <td>1</td>\n",
       "    </tr>\n",
       "    <tr>\n",
       "      <th>of mine</th>\n",
       "      <td>1</td>\n",
       "    </tr>\n",
       "    <tr>\n",
       "      <th>got to</th>\n",
       "      <td>1</td>\n",
       "    </tr>\n",
       "    <tr>\n",
       "      <th>happy de</th>\n",
       "      <td>1</td>\n",
       "    </tr>\n",
       "    <tr>\n",
       "      <th>and jo</th>\n",
       "      <td>1</td>\n",
       "    </tr>\n",
       "  </tbody>\n",
       "</table>\n",
       "<p>125 rows × 1 columns</p>\n",
       "</div>"
      ],
      "text/plain": [
       "                frequency\n",
       "happy birthday          1\n",
       "tuner for               1\n",
       "be most                 1\n",
       "most welcome            1\n",
       "day everyone            1\n",
       "...                   ...\n",
       "see them                1\n",
       "of mine                 1\n",
       "got to                  1\n",
       "happy de                1\n",
       "and jo                  1\n",
       "\n",
       "[125 rows x 1 columns]"
      ]
     },
     "execution_count": 51,
     "metadata": {},
     "output_type": "execute_result"
    }
   ],
   "source": [
    "comparison={'frequency':bi_frequency}\n",
    "pd.DataFrame(comparison,index=bi_gram)"
   ]
  },
  {
   "cell_type": "markdown",
   "metadata": {},
   "source": [
    "check if multi-gram works, N=4"
   ]
  },
  {
   "cell_type": "code",
   "execution_count": 52,
   "metadata": {},
   "outputs": [
    {
     "name": "stdout",
     "output_type": "stream",
     "text": [
      "4 -gram text frame work\n"
     ]
    }
   ],
   "source": [
    "tert_gram,tert_presence,tert_frequency,tert_number_unique_term=nGram(split_selected_word,split_selected_text,4)"
   ]
  },
  {
   "cell_type": "code",
   "execution_count": 53,
   "metadata": {},
   "outputs": [
    {
     "data": {
      "text/html": [
       "<div>\n",
       "<style scoped>\n",
       "    .dataframe tbody tr th:only-of-type {\n",
       "        vertical-align: middle;\n",
       "    }\n",
       "\n",
       "    .dataframe tbody tr th {\n",
       "        vertical-align: top;\n",
       "    }\n",
       "\n",
       "    .dataframe thead th {\n",
       "        text-align: right;\n",
       "    }\n",
       "</style>\n",
       "<table border=\"1\" class=\"dataframe\">\n",
       "  <thead>\n",
       "    <tr style=\"text-align: right;\">\n",
       "      <th></th>\n",
       "      <th>frequency</th>\n",
       "    </tr>\n",
       "  </thead>\n",
       "  <tbody>\n",
       "    <tr>\n",
       "      <th>d happy mother s</th>\n",
       "      <td>1</td>\n",
       "    </tr>\n",
       "    <tr>\n",
       "      <th>happy birthday little sister</th>\n",
       "      <td>1</td>\n",
       "    </tr>\n",
       "    <tr>\n",
       "      <th>tuner for my laptop</th>\n",
       "      <td>1</td>\n",
       "    </tr>\n",
       "    <tr>\n",
       "      <th>bought a tv tuner</th>\n",
       "      <td>1</td>\n",
       "    </tr>\n",
       "    <tr>\n",
       "      <th>birthday little sister of</th>\n",
       "      <td>1</td>\n",
       "    </tr>\n",
       "    <tr>\n",
       "      <th>...</th>\n",
       "      <td>...</td>\n",
       "    </tr>\n",
       "    <tr>\n",
       "      <th>so good glad you</th>\n",
       "      <td>1</td>\n",
       "    </tr>\n",
       "    <tr>\n",
       "      <th>sweet dreams olive juice</th>\n",
       "      <td>1</td>\n",
       "    </tr>\n",
       "    <tr>\n",
       "      <th>hope you have a</th>\n",
       "      <td>1</td>\n",
       "    </tr>\n",
       "    <tr>\n",
       "      <th>he he i deserve</th>\n",
       "      <td>1</td>\n",
       "    </tr>\n",
       "    <tr>\n",
       "      <th>a better weekend then</th>\n",
       "      <td>1</td>\n",
       "    </tr>\n",
       "  </tbody>\n",
       "</table>\n",
       "<p>77 rows × 1 columns</p>\n",
       "</div>"
      ],
      "text/plain": [
       "                              frequency\n",
       "d happy mother s                      1\n",
       "happy birthday little sister          1\n",
       "tuner for my laptop                   1\n",
       "bought a tv tuner                     1\n",
       "birthday little sister of             1\n",
       "...                                 ...\n",
       "so good glad you                      1\n",
       "sweet dreams olive juice              1\n",
       "hope you have a                       1\n",
       "he he i deserve                       1\n",
       "a better weekend then                 1\n",
       "\n",
       "[77 rows x 1 columns]"
      ]
     },
     "execution_count": 53,
     "metadata": {},
     "output_type": "execute_result"
    }
   ],
   "source": [
    "comparison={'frequency':tert_frequency}\n",
    "pd.DataFrame(comparison,index=tert_gram)"
   ]
  },
  {
   "cell_type": "markdown",
   "metadata": {},
   "source": [
    "# Numerify the Text Output of 'Sentiment'"
   ]
  },
  {
   "cell_type": "code",
   "execution_count": 56,
   "metadata": {},
   "outputs": [
    {
     "name": "stdout",
     "output_type": "stream",
     "text": [
      "       negative  neutral  positive\n",
      "0             0        1         0\n",
      "1             0        0         1\n",
      "2             0        1         0\n",
      "3             1        0         0\n",
      "4             0        0         1\n",
      "...         ...      ...       ...\n",
      "27481         0        1         0\n",
      "27482         0        1         0\n",
      "27483         0        1         0\n",
      "27484         0        0         1\n",
      "27485         0        0         1\n",
      "\n",
      "[27485 rows x 3 columns]\n"
     ]
    }
   ],
   "source": [
    "sentiment=pd.get_dummies(data_train['sentiment'])\n",
    "print(sentiment)"
   ]
  },
  {
   "cell_type": "markdown",
   "metadata": {},
   "source": [
    "Assigning sentiment information with values."
   ]
  },
  {
   "cell_type": "code",
   "execution_count": null,
   "metadata": {},
   "outputs": [],
   "source": [
    "from nltk import FreqDist\n",
    "import pickle\n",
    "import sys\n",
    "import utils"
   ]
  },
  {
   "cell_type": "code",
   "execution_count": null,
   "metadata": {},
   "outputs": [],
   "source": [
    "from collections import Counter"
   ]
  }
 ],
 "metadata": {
  "kernelspec": {
   "display_name": "Python 3",
   "language": "python",
   "name": "python3"
  },
  "language_info": {
   "codemirror_mode": {
    "name": "ipython",
    "version": 3
   },
   "file_extension": ".py",
   "mimetype": "text/x-python",
   "name": "python",
   "nbconvert_exporter": "python",
   "pygments_lexer": "ipython3",
   "version": "3.7.6"
  }
 },
 "nbformat": 4,
 "nbformat_minor": 2
}
