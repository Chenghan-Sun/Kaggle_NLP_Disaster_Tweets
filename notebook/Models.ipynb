{
 "cells": [
  {
   "cell_type": "code",
   "execution_count": 5,
   "metadata": {},
   "outputs": [],
   "source": [
    "# import pkgs \n",
    "import sys, os\n",
    "import pandas as pd\n",
    "import numpy as np"
   ]
  },
  {
   "cell_type": "markdown",
   "metadata": {},
   "source": [
    "### Part 1: XGBoost\n"
   ]
  },
  {
   "cell_type": "code",
   "execution_count": null,
   "metadata": {},
   "outputs": [],
   "source": []
  },
  {
   "cell_type": "code",
   "execution_count": 43,
   "metadata": {},
   "outputs": [],
   "source": [
    "# global settings \n",
    "TRAIN_CLEAN_FILE = '../data/clean_data/Overall.csv'\n",
    "TEST_CLEAN_FILE = '../data/clean_data/test-processed.csv'\n",
    "POSITIVE_CLEAN_FILE = '../data/clean_data/Positive_clean_data.csv'\n",
    "NEGATIVE_CLEAN_FILE = '../data/clean_data/Negative_clean_data.csv'\n",
    "POS_BI_RANK = '../data/Positive/bi_rank'\n",
    "Neg_BI_RANK = '../data/Negative//bi_rank'\n",
    "\n",
    "# Bool for training task \n",
    "TRAIN_Flag = False "
   ]
  },
  {
   "cell_type": "code",
   "execution_count": 44,
   "metadata": {},
   "outputs": [],
   "source": [
    "helper_path = \"../code/\"\n",
    "sys.path.insert(0, helper_path)\n",
    "from StaAnalysis import StaA"
   ]
  },
  {
   "cell_type": "code",
   "execution_count": 45,
   "metadata": {},
   "outputs": [],
   "source": [
    "train_data = pd.read_csv(TRAIN_CLEAN_FILE)\n",
    "pos_data = pd.read_csv(POSITIVE_CLEAN_FILE)\n",
    "neg_data = pd.read_csv(NEGATIVE_CLEAN_FILE)\n",
    "pos_bi_rank = pd.read_csv(POS_BI_RANK)\n",
    "neg_bi_rank = pd.read_csv(Neg_BI_RANK)"
   ]
  },
  {
   "cell_type": "code",
   "execution_count": 41,
   "metadata": {},
   "outputs": [],
   "source": [
    "pos_bi_rank = pos_bi_rank.rename(columns={'Unnamed: 0': 'bigram'})"
   ]
  },
  {
   "cell_type": "code",
   "execution_count": 42,
   "metadata": {},
   "outputs": [
    {
     "data": {
      "text/html": [
       "<div>\n",
       "<style scoped>\n",
       "    .dataframe tbody tr th:only-of-type {\n",
       "        vertical-align: middle;\n",
       "    }\n",
       "\n",
       "    .dataframe tbody tr th {\n",
       "        vertical-align: top;\n",
       "    }\n",
       "\n",
       "    .dataframe thead th {\n",
       "        text-align: right;\n",
       "    }\n",
       "</style>\n",
       "<table border=\"1\" class=\"dataframe\">\n",
       "  <thead>\n",
       "    <tr style=\"text-align: right;\">\n",
       "      <th></th>\n",
       "      <th>bigram</th>\n",
       "      <th>frequency</th>\n",
       "      <th>presence</th>\n",
       "      <th>idf</th>\n",
       "      <th>tf-idf</th>\n",
       "    </tr>\n",
       "  </thead>\n",
       "  <tbody>\n",
       "    <tr>\n",
       "      <th>0</th>\n",
       "      <td>i love</td>\n",
       "      <td>231</td>\n",
       "      <td>2.0</td>\n",
       "      <td>8.958926</td>\n",
       "      <td>2069.512020</td>\n",
       "    </tr>\n",
       "    <tr>\n",
       "      <th>1</th>\n",
       "      <td>mother s</td>\n",
       "      <td>145</td>\n",
       "      <td>49.0</td>\n",
       "      <td>6.145516</td>\n",
       "      <td>891.099788</td>\n",
       "    </tr>\n",
       "    <tr>\n",
       "      <th>2</th>\n",
       "      <td>s day</td>\n",
       "      <td>144</td>\n",
       "      <td>8.0</td>\n",
       "      <td>7.860314</td>\n",
       "      <td>1131.885245</td>\n",
       "    </tr>\n",
       "    <tr>\n",
       "      <th>3</th>\n",
       "      <td>i m</td>\n",
       "      <td>140</td>\n",
       "      <td>1.0</td>\n",
       "      <td>9.364392</td>\n",
       "      <td>1311.014824</td>\n",
       "    </tr>\n",
       "    <tr>\n",
       "      <th>4</th>\n",
       "      <td>happy mother</td>\n",
       "      <td>121</td>\n",
       "      <td>4.0</td>\n",
       "      <td>8.448101</td>\n",
       "      <td>1022.220205</td>\n",
       "    </tr>\n",
       "  </tbody>\n",
       "</table>\n",
       "</div>"
      ],
      "text/plain": [
       "         bigram  frequency  presence       idf       tf-idf\n",
       "0        i love        231       2.0  8.958926  2069.512020\n",
       "1      mother s        145      49.0  6.145516   891.099788\n",
       "2         s day        144       8.0  7.860314  1131.885245\n",
       "3           i m        140       1.0  9.364392  1311.014824\n",
       "4  happy mother        121       4.0  8.448101  1022.220205"
      ]
     },
     "execution_count": 42,
     "metadata": {},
     "output_type": "execute_result"
    }
   ],
   "source": [
    "pos_bi_rank.head()"
   ]
  },
  {
   "cell_type": "code",
   "execution_count": 46,
   "metadata": {},
   "outputs": [
    {
     "data": {
      "text/html": [
       "<div>\n",
       "<style scoped>\n",
       "    .dataframe tbody tr th:only-of-type {\n",
       "        vertical-align: middle;\n",
       "    }\n",
       "\n",
       "    .dataframe tbody tr th {\n",
       "        vertical-align: top;\n",
       "    }\n",
       "\n",
       "    .dataframe thead th {\n",
       "        text-align: right;\n",
       "    }\n",
       "</style>\n",
       "<table border=\"1\" class=\"dataframe\">\n",
       "  <thead>\n",
       "    <tr style=\"text-align: right;\">\n",
       "      <th></th>\n",
       "      <th>Unnamed: 0</th>\n",
       "      <th>frequency</th>\n",
       "      <th>presence</th>\n",
       "      <th>idf</th>\n",
       "      <th>tf-idf</th>\n",
       "    </tr>\n",
       "  </thead>\n",
       "  <tbody>\n",
       "    <tr>\n",
       "      <th>0</th>\n",
       "      <td>i m</td>\n",
       "      <td>338</td>\n",
       "      <td>1.0</td>\n",
       "      <td>9.267064</td>\n",
       "      <td>3132.267556</td>\n",
       "    </tr>\n",
       "    <tr>\n",
       "      <th>1</th>\n",
       "      <td>do nt</td>\n",
       "      <td>165</td>\n",
       "      <td>1.0</td>\n",
       "      <td>9.267064</td>\n",
       "      <td>1529.065523</td>\n",
       "    </tr>\n",
       "    <tr>\n",
       "      <th>2</th>\n",
       "      <td>ca nt</td>\n",
       "      <td>147</td>\n",
       "      <td>1.0</td>\n",
       "      <td>9.267064</td>\n",
       "      <td>1362.258375</td>\n",
       "    </tr>\n",
       "    <tr>\n",
       "      <th>3</th>\n",
       "      <td>i miss</td>\n",
       "      <td>113</td>\n",
       "      <td>34.0</td>\n",
       "      <td>6.404863</td>\n",
       "      <td>723.749507</td>\n",
       "    </tr>\n",
       "    <tr>\n",
       "      <th>4</th>\n",
       "      <td>i hate</td>\n",
       "      <td>113</td>\n",
       "      <td>1.0</td>\n",
       "      <td>9.267064</td>\n",
       "      <td>1047.178207</td>\n",
       "    </tr>\n",
       "  </tbody>\n",
       "</table>\n",
       "</div>"
      ],
      "text/plain": [
       "  Unnamed: 0  frequency  presence       idf       tf-idf\n",
       "0        i m        338       1.0  9.267064  3132.267556\n",
       "1      do nt        165       1.0  9.267064  1529.065523\n",
       "2      ca nt        147       1.0  9.267064  1362.258375\n",
       "3     i miss        113      34.0  6.404863   723.749507\n",
       "4     i hate        113       1.0  9.267064  1047.178207"
      ]
     },
     "execution_count": 46,
     "metadata": {},
     "output_type": "execute_result"
    }
   ],
   "source": [
    "neg_bi_rank.head()"
   ]
  },
  {
   "cell_type": "code",
   "execution_count": null,
   "metadata": {},
   "outputs": [],
   "source": []
  }
 ],
 "metadata": {
  "kernelspec": {
   "display_name": "Python 3",
   "language": "python",
   "name": "python3"
  },
  "language_info": {
   "codemirror_mode": {
    "name": "ipython",
    "version": 3
   },
   "file_extension": ".py",
   "mimetype": "text/x-python",
   "name": "python",
   "nbconvert_exporter": "python",
   "pygments_lexer": "ipython3",
   "version": "3.7.2"
  }
 },
 "nbformat": 4,
 "nbformat_minor": 2
}
